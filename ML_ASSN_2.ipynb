{
 "cells": [
  {
   "cell_type": "markdown",
   "metadata": {},
   "source": [
    "# Assignment - 2 : Modelling Exercise"
   ]
  },
  {
   "cell_type": "markdown",
   "metadata": {},
   "source": [
    "**Heart Stroke Prediction**\n",
    "\n",
    "Stroke prediction is like a proactive approach to healthcare, aiming to identify individuals at higher risk of stroke before it occurs. By analysing patient data, it can spot patterns and risk factors that indicate potential stroke incidents. Early identification helps healthcare professionals implement preventive measures, improving patient outcomes and reducing the burden of stroke-related disabilities."
   ]
  },
  {
   "cell_type": "markdown",
   "metadata": {},
   "source": [
    "I am a `Data Scientist` working in `Healthcare Analytics`. My role involves developing models that can assist healthcare professionals in identifying patients who are at higher risk of stroke, enabling early intervention and personalized care. Stroke is a leading cause of disability and death worldwide, and predicting it in advance can greatly improve patient health outcomes. The project aims to build a machine learning model using a stroke prediction dataset to assess the likelihood of stroke in patients based on various health and lifestyle factors, such as age, hypertension, heart disease, and smoking status."
   ]
  },
  {
   "cell_type": "markdown",
   "metadata": {},
   "source": [
    "The dataset used for this project is from Kaggle . This dataset includes patient details, such as age, gender, BMI, glucose levels, work-type, smoking status, hypertension and heart disease, making it suitable for developing a robust stroke prediction model."
   ]
  },
  {
   "cell_type": "markdown",
   "metadata": {},
   "source": [
    "## Data"
   ]
  },
  {
   "cell_type": "code",
   "execution_count": 80,
   "metadata": {
    "id": "AMkRQ0eMo-2A"
   },
   "outputs": [],
   "source": [
    "import pandas as pd\n",
    "import numpy as np\n",
    "import matplotlib.pyplot as plt\n",
    "import seaborn as sns\n",
    "from tabulate import tabulate\n",
    "from sklearn.model_selection import train_test_split, GridSearchCV\n",
    "from sklearn.preprocessing import StandardScaler\n",
    "from sklearn.ensemble import RandomForestClassifier\n",
    "from sklearn.neighbors import KNeighborsClassifier\n",
    "from imblearn.over_sampling import RandomOverSampler\n",
    "from sklearn.preprocessing import StandardScaler\n",
    "from sklearn.model_selection import train_test_split\n",
    "from sklearn.metrics import accuracy_score, precision_score, recall_score, f1_score, classification_report, confusion_matrix\n",
    "\n"
   ]
  },
  {
   "cell_type": "markdown",
   "metadata": {},
   "source": [
    "Now using pandas' read_csv, I loaded the data to `train_data` and `test_data` dataframes"
   ]
  },
  {
   "cell_type": "code",
   "execution_count": 81,
   "metadata": {
    "id": "A_3Li9sIpCmr"
   },
   "outputs": [
    {
     "data": {
      "text/html": [
       "<div>\n",
       "<style scoped>\n",
       "    .dataframe tbody tr th:only-of-type {\n",
       "        vertical-align: middle;\n",
       "    }\n",
       "\n",
       "    .dataframe tbody tr th {\n",
       "        vertical-align: top;\n",
       "    }\n",
       "\n",
       "    .dataframe thead th {\n",
       "        text-align: right;\n",
       "    }\n",
       "</style>\n",
       "<table border=\"1\" class=\"dataframe\">\n",
       "  <thead>\n",
       "    <tr style=\"text-align: right;\">\n",
       "      <th></th>\n",
       "      <th>id</th>\n",
       "      <th>gender</th>\n",
       "      <th>age</th>\n",
       "      <th>hypertension</th>\n",
       "      <th>heart_disease</th>\n",
       "      <th>ever_married</th>\n",
       "      <th>work_type</th>\n",
       "      <th>Residence_type</th>\n",
       "      <th>avg_glucose_level</th>\n",
       "      <th>bmi</th>\n",
       "      <th>smoking_status</th>\n",
       "      <th>stroke</th>\n",
       "    </tr>\n",
       "  </thead>\n",
       "  <tbody>\n",
       "    <tr>\n",
       "      <th>0</th>\n",
       "      <td>9046</td>\n",
       "      <td>Male</td>\n",
       "      <td>67.0</td>\n",
       "      <td>0</td>\n",
       "      <td>1</td>\n",
       "      <td>Yes</td>\n",
       "      <td>Private</td>\n",
       "      <td>Urban</td>\n",
       "      <td>228.69</td>\n",
       "      <td>36.6</td>\n",
       "      <td>formerly smoked</td>\n",
       "      <td>1</td>\n",
       "    </tr>\n",
       "    <tr>\n",
       "      <th>1</th>\n",
       "      <td>51676</td>\n",
       "      <td>Female</td>\n",
       "      <td>61.0</td>\n",
       "      <td>0</td>\n",
       "      <td>0</td>\n",
       "      <td>Yes</td>\n",
       "      <td>Self-employed</td>\n",
       "      <td>Rural</td>\n",
       "      <td>202.21</td>\n",
       "      <td>NaN</td>\n",
       "      <td>never smoked</td>\n",
       "      <td>1</td>\n",
       "    </tr>\n",
       "    <tr>\n",
       "      <th>2</th>\n",
       "      <td>31112</td>\n",
       "      <td>Male</td>\n",
       "      <td>80.0</td>\n",
       "      <td>0</td>\n",
       "      <td>1</td>\n",
       "      <td>Yes</td>\n",
       "      <td>Private</td>\n",
       "      <td>Rural</td>\n",
       "      <td>105.92</td>\n",
       "      <td>32.5</td>\n",
       "      <td>never smoked</td>\n",
       "      <td>1</td>\n",
       "    </tr>\n",
       "    <tr>\n",
       "      <th>3</th>\n",
       "      <td>60182</td>\n",
       "      <td>Female</td>\n",
       "      <td>49.0</td>\n",
       "      <td>0</td>\n",
       "      <td>0</td>\n",
       "      <td>Yes</td>\n",
       "      <td>Private</td>\n",
       "      <td>Urban</td>\n",
       "      <td>171.23</td>\n",
       "      <td>34.4</td>\n",
       "      <td>smokes</td>\n",
       "      <td>1</td>\n",
       "    </tr>\n",
       "    <tr>\n",
       "      <th>4</th>\n",
       "      <td>1665</td>\n",
       "      <td>Female</td>\n",
       "      <td>79.0</td>\n",
       "      <td>1</td>\n",
       "      <td>0</td>\n",
       "      <td>Yes</td>\n",
       "      <td>Self-employed</td>\n",
       "      <td>Rural</td>\n",
       "      <td>174.12</td>\n",
       "      <td>24.0</td>\n",
       "      <td>never smoked</td>\n",
       "      <td>1</td>\n",
       "    </tr>\n",
       "  </tbody>\n",
       "</table>\n",
       "</div>"
      ],
      "text/plain": [
       "      id  gender   age  hypertension  heart_disease ever_married  \\\n",
       "0   9046    Male  67.0             0              1          Yes   \n",
       "1  51676  Female  61.0             0              0          Yes   \n",
       "2  31112    Male  80.0             0              1          Yes   \n",
       "3  60182  Female  49.0             0              0          Yes   \n",
       "4   1665  Female  79.0             1              0          Yes   \n",
       "\n",
       "       work_type Residence_type  avg_glucose_level   bmi   smoking_status  \\\n",
       "0        Private          Urban             228.69  36.6  formerly smoked   \n",
       "1  Self-employed          Rural             202.21   NaN     never smoked   \n",
       "2        Private          Rural             105.92  32.5     never smoked   \n",
       "3        Private          Urban             171.23  34.4           smokes   \n",
       "4  Self-employed          Rural             174.12  24.0     never smoked   \n",
       "\n",
       "   stroke  \n",
       "0       1  \n",
       "1       1  \n",
       "2       1  \n",
       "3       1  \n",
       "4       1  "
      ]
     },
     "execution_count": 81,
     "metadata": {},
     "output_type": "execute_result"
    }
   ],
   "source": [
    "# Load dataset\n",
    "data = pd.read_csv(\"https://raw.githubusercontent.com/DushyanthReddy123/Assignment/refs/heads/main/healthcare-dataset-stroke-data.csv\")\n",
    "data.head()"
   ]
  },
  {
   "cell_type": "code",
   "execution_count": 77,
   "metadata": {},
   "outputs": [
    {
     "data": {
      "image/png": "[encoded data removed]",
      "text/plain": [
       "<Figure size 800x500 with 1 Axes>"
      ]
     },
     "metadata": {},
     "output_type": "display_data"
    }
   ],
   "source": [
    "plt.figure(figsize=(8, 5))\n",
    "sns.countplot(x=\"stroke\", data=data, palette=\"viridis\")  # Pass the full DataFrame to `data`, and specify `x=\"stroke\"`\n",
    "plt.title(\"Count of Stroke Labels\")\n",
    "plt.xlabel(\"Stroke (0 = No, 1 = Yes)\")\n",
    "plt.ylabel(\"Count\")\n",
    "plt.show()"
   ]
  },
  {
   "cell_type": "markdown",
   "metadata": {},
   "source": [
    "## Data Preprocessing and Feature Engineering"
   ]
  },
  {
   "cell_type": "code",
   "execution_count": 78,
   "metadata": {
    "id": "M3Vqavf9pC65"
   },
   "outputs": [],
   "source": [
    "def assign_age_group(age):\n",
    "    if age < 2:\n",
    "        return 'infant'\n",
    "    elif age <= 19:\n",
    "        return 'child'\n",
    "    elif age < 60:\n",
    "        return 'adult'\n",
    "    else:\n",
    "        return 'senior'\n",
    "\n",
    "data['age_group'] = data['age'].apply(assign_age_group)"
   ]
  },
  {
   "cell_type": "code",
   "execution_count": 79,
   "metadata": {
    "colab": {
     "base_uri": "https://localhost:8080/"
    },
    "id": "5qYknwUepC9V",
    "outputId": "6913189c-ed09-4368-dc42-914d16c5a2f1"
   },
   "outputs": [
    {
     "name": "stdout",
     "output_type": "stream",
     "text": [
      "id                     0\n",
      "gender                 0\n",
      "age                    0\n",
      "hypertension           0\n",
      "heart_disease          0\n",
      "ever_married           0\n",
      "work_type              0\n",
      "Residence_type         0\n",
      "avg_glucose_level      0\n",
      "bmi                  201\n",
      "smoking_status         0\n",
      "stroke                 0\n",
      "age_group              0\n",
      "dtype: int64\n"
     ]
    }
   ],
   "source": [
    "# Check missing values\n",
    "print(data.isnull().sum())"
   ]
  },
  {
   "cell_type": "code",
   "execution_count": 64,
   "metadata": {
    "id": "lVu3O46-pC_8"
   },
   "outputs": [],
   "source": [
    "# Impute missing BMI values by median within age group and gender\n",
    "data['bmi'] = data.groupby(['age_group', 'gender'])['bmi'].transform(lambda x: x.fillna(x.median()))"
   ]
  },
  {
   "cell_type": "code",
   "execution_count": 65,
   "metadata": {
    "id": "kgHPOwjWpOVZ"
   },
   "outputs": [],
   "source": [
    "# Drop ID column\n",
    "data.drop('id', axis=1, inplace=True)\n",
    "data.drop(index = data[data['gender']=='Other'].index[0] ,axis=0,inplace=True)\n",
    "# Encode categorical variables\n",
    "data = pd.get_dummies(data, columns=['age_group', 'gender', 'ever_married', 'work_type', 'Residence_type', 'smoking_status'], drop_first=True)"
   ]
  },
  {
   "cell_type": "code",
   "execution_count": 66,
   "metadata": {
    "id": "qwi0nLXNpQGz"
   },
   "outputs": [],
   "source": [
    "# Define features and target\n",
    "X = data.drop('stroke', axis=1)\n",
    "y = data['stroke']\n",
    "\n",
    "# Train-test split\n",
    "X_train, X_test, y_train, y_test = train_test_split(X, y, test_size=0.2, random_state=42, stratify=y)"
   ]
  },
  {
   "cell_type": "markdown",
   "metadata": {},
   "source": [
    "### Balancing, Splitting and Scaling Data"
   ]
  },
  {
   "cell_type": "code",
   "execution_count": 67,
   "metadata": {},
   "outputs": [],
   "source": [
    "oversample = RandomOverSampler(sampling_strategy='minority')\n",
    "X_over, y_over = oversample.fit_resample(X, y)\n",
    "X_train,X_test,y_train,y_test = train_test_split(X_over,y_over,test_size=0.3,stratify=y_over,random_state=42)"
   ]
  },
  {
   "cell_type": "code",
   "execution_count": 68,
   "metadata": {},
   "outputs": [],
   "source": [
    "scaler=StandardScaler()\n",
    "X_train=scaler.fit_transform(X_train)\n",
    "X_test=scaler.transform(X_test)"
   ]
  },
  {
   "cell_type": "markdown",
   "metadata": {},
   "source": [
    "## Model Training, Hyperparameter Tuning and Performance Evaluation"
   ]
  },
  {
   "cell_type": "markdown",
   "metadata": {},
   "source": [
    "To predict stroke risk, I used and tuned the following models, each with three sets of hyperparameters:\n",
    "\n",
    "**KNN**\n",
    "\n",
    "Functions as a healthcare recommendation system by locating patients with similar profiles based on features like age, bmi, and hypertension. If many of these “neighbors” have had strokes, the model flags the current patient as high risk.\n",
    "\n",
    "Capable of adapting to complex, non-linear relationships among risk factors without imposing fixed assumptions, making it well-suited for capturing localized patterns in stroke risk.\n",
    "\n",
    "\n",
    "\n",
    "**Random Forest**\n",
    "\n",
    "Operates like a team of diverse medical experts, where each “expert” (tree) assesses patient data from various perspectives and then combines predictions for a balanced, reliable output.\n",
    "\n",
    "Effectively captures interactions between multiple health factors, offering insights into feature importance. This helps identify critical risk factors like age and avg_glucose_level, which can guide preventive care strategies."
   ]
  },
  {
   "cell_type": "markdown",
   "metadata": {},
   "source": [
    "### Hyperparameters "
   ]
  },
  {
   "cell_type": "markdown",
   "metadata": {},
   "source": [
    "I used GridSearchCV to perform an exhaustive search over specified hyperparameters, finding the best combinations to enhance model performance and ensure robust generalization. For K-Nearest Neighbors (KNN), I tuned n_neighbors, weights, and metric, while for Random Forest, I adjusted n_estimators, max_depth, and min_samples_split. These optimized hyperparameters helped improve model accuracy for stroke risk prediction."
   ]
  },
  {
   "cell_type": "code",
   "execution_count": 69,
   "metadata": {},
   "outputs": [],
   "source": [
    "\n",
    "# KNN hyperparameter tuning\n",
    "knn_params = {\n",
    "    'n_neighbors': list(range(3, 7)),\n",
    "    'weights': ['uniform', 'distance'],\n",
    "    'metric': ['euclidean', 'manhattan']\n",
    "}\n",
    "knn = KNeighborsClassifier()\n",
    "knn_grid = GridSearchCV(knn, knn_params, cv=5, scoring='f1', n_jobs=-1)\n",
    "knn_grid.fit(X_train, y_train)\n",
    "best_knn = knn_grid.best_estimator_\n",
    "\n",
    "# Random Forest tuning\n",
    "rf_params = {\n",
    "    'n_estimators': [50, 75, 100, 150, 200, 300],\n",
    "    'max_depth': [None, 10, 20],\n",
    "    'min_samples_split': [2, 5, 10]\n",
    "}\n",
    "rf = RandomForestClassifier(random_state=42)\n",
    "rf_grid = GridSearchCV(rf, rf_params, cv=5, scoring='f1', n_jobs=-1)\n",
    "rf_grid.fit(X_train, y_train)\n",
    "best_rf = rf_grid.best_estimator_"
   ]
  },
  {
   "cell_type": "markdown",
   "metadata": {},
   "source": [
    "**Evaluation Metrics**\n",
    "\n",
    "Given the significant imbalance in the dataset, with approximately 5% stroke cases and 95% non-stroke cases, it’s crucial to use evaluation metrics that provide a balanced view of model performance:\n",
    "\n",
    "•\tPrecision and Recall: With an imbalanced dataset, precision and recall are key metrics. Precision ensures that when the model predicts a stroke, it is accurate, minimizing false positives. Recall focuses on detecting actual stroke cases, ensuring that as many true positives are captured as possible.\n",
    "\n",
    "•\tF1 Score: The F1 score combines precision and recall into a single metric, making it particularly useful for imbalanced datasets like this one. It provides a balanced measure of the model’s ability to correctly identify stroke cases without being overly influenced by the majority class.\n",
    "\n",
    "•\tAccuracy: While accuracy gives an overall view of model performance, it can be misleading for imbalanced datasets. In this case, the model could achieve high accuracy just by predicting non-stroke for most cases. However, it’s still a useful measure to consider alongside more specific metrics.\n"
   ]
  },
  {
   "cell_type": "code",
   "execution_count": 70,
   "metadata": {},
   "outputs": [],
   "source": [
    "# Model evaluation and preparing data for tabulation\n",
    "evaluation_data = []\n",
    "\n",
    "for model, name in zip([best_knn, best_rf], ['KNN', 'Random Forest']):\n",
    "    y_pred = model.predict(X_test)\n",
    "    accuracy = accuracy_score(y_test, y_pred)\n",
    "    precision = precision_score(y_test, y_pred)\n",
    "    recall = recall_score(y_test, y_pred)\n",
    "    f1 = f1_score(y_test, y_pred)\n",
    "    \n",
    "    # Get the best hyperparameters from GridSearchCV\n",
    "    if name == 'KNN':\n",
    "        best_params = knn_grid.best_params_\n",
    "    elif name == 'Random Forest':\n",
    "        best_params = rf_grid.best_params_\n",
    "    \n",
    "    # Add the results to the list for tabulation\n",
    "    evaluation_data.append([name, accuracy, precision, recall, f1, str(best_params)])"
   ]
  },
  {
   "cell_type": "code",
   "execution_count": 71,
   "metadata": {},
   "outputs": [
    {
     "name": "stdout",
     "output_type": "stream",
     "text": [
      "╒═══════════════╤════════════╤═════════════╤══════════╤════════════╤══════════════════════════════════════════════════════════════════╕\n",
      "│ Model         │   Accuracy │   Precision │   Recall │   F1 Score │ Best Parameters                                                  │\n",
      "╞═══════════════╪════════════╪═════════════╪══════════╪════════════╪══════════════════════════════════════════════════════════════════╡\n",
      "│ KNN           │   0.950617 │    0.910112 │        1 │   0.952941 │ {'metric': 'manhattan', 'n_neighbors': 3, 'weights': 'distance'} │\n",
      "├───────────────┼────────────┼─────────────┼──────────┼────────────┼──────────────────────────────────────────────────────────────────┤\n",
      "│ Random Forest │   0.988683 │    0.977867 │        1 │   0.98881  │ {'max_depth': None, 'min_samples_split': 2, 'n_estimators': 300} │\n",
      "╘═══════════════╧════════════╧═════════════╧══════════╧════════════╧══════════════════════════════════════════════════════════════════╛\n"
     ]
    }
   ],
   "source": [
    "# Define column names for the table\n",
    "col_names = [\"Model\", \"Accuracy\", \"Precision\", \"Recall\", \"F1 Score\", \"Best Parameters\"]\n",
    "\n",
    "# Print the table using tabulate (adjust the format)\n",
    "print(tabulate(evaluation_data, headers=col_names, tablefmt=\"fancy_grid\"))"
   ]
  },
  {
   "cell_type": "code",
   "execution_count": 72,
   "metadata": {},
   "outputs": [
    {
     "name": "stdout",
     "output_type": "stream",
     "text": [
      "\n",
      "Classification Report for KNN:\n",
      "\n",
      "Precision: 0.91\n",
      "F1 Score: 0.95\n",
      "              precision    recall  f1-score   support\n",
      "\n",
      "           0       1.00      0.90      0.95      1458\n",
      "           1       0.91      1.00      0.95      1458\n",
      "\n",
      "    accuracy                           0.95      2916\n",
      "   macro avg       0.96      0.95      0.95      2916\n",
      "weighted avg       0.96      0.95      0.95      2916\n",
      "\n"
     ]
    },
    {
     "data": {
      "image/png": "[encoded data removed]",
      "text/plain": [
       "<Figure size 600x400 with 2 Axes>"
      ]
     },
     "metadata": {},
     "output_type": "display_data"
    },
    {
     "name": "stdout",
     "output_type": "stream",
     "text": [
      "\n",
      "Classification Report for Random Forest:\n",
      "\n",
      "Precision: 0.98\n",
      "F1 Score: 0.99\n",
      "              precision    recall  f1-score   support\n",
      "\n",
      "           0       1.00      0.98      0.99      1458\n",
      "           1       0.98      1.00      0.99      1458\n",
      "\n",
      "    accuracy                           0.99      2916\n",
      "   macro avg       0.99      0.99      0.99      2916\n",
      "weighted avg       0.99      0.99      0.99      2916\n",
      "\n"
     ]
    },
    {
     "data": {
      "image/png": "[encoded data removed]",
      "text/plain": [
       "<Figure size 600x400 with 2 Axes>"
      ]
     },
     "metadata": {},
     "output_type": "display_data"
    }
   ],
   "source": [
    "# Function to plot confusion matrix\n",
    "def plot_confusion_matrix(cm, model_name):\n",
    "    plt.figure(figsize=(6, 4))\n",
    "    sns.heatmap(cm, annot=True, fmt='d', cmap='Blues', xticklabels=['Predicted Non-Stroke', 'Predicted Stroke'],\n",
    "                yticklabels=['Actual Non-Stroke', 'Actual Stroke'])\n",
    "    plt.title(f'Confusion Matrix - {model_name}')\n",
    "    plt.xlabel('Predicted Labels')\n",
    "    plt.ylabel('Actual Labels')\n",
    "    plt.show()\n",
    "\n",
    "# Print detailed classification report and confusion matrix for each model\n",
    "for model, name in zip([best_knn, best_rf], ['KNN', 'Random Forest']):\n",
    "    y_pred = model.predict(X_test)\n",
    "    print(f\"\\nClassification Report for {name}:\\n\")\n",
    "    print(f\"Precision: {precision_score(y_test, y_pred):.2f}\")\n",
    "    print(f\"F1 Score: {f1_score(y_test, y_pred):.2f}\")\n",
    "    print(classification_report(y_test, y_pred))\n",
    "    \n",
    "    # Calculate and plot confusion matrix\n",
    "    cm = confusion_matrix(y_test, y_pred)\n",
    "    plot_confusion_matrix(cm, name)\n"
   ]
  },
  {
   "cell_type": "markdown",
   "metadata": {},
   "source": [
    "## Conclusion"
   ]
  },
  {
   "cell_type": "markdown",
   "metadata": {},
   "source": [
    "•Based on the results, the Random Forest model with optimal hyperparameters performed better than KNN for the given stroke prediction dataset. It achieved higher precision, recall, and F1 scores, making it a robust choice for identifying potential stroke cases accurately.\n",
    "\n",
    "•\tCurrently, the model was tested on a dataset consisting of 250 stroke cases and 4750 non-stroke instances, showing reliable performance in detecting true positives and minimizing false negatives.\n",
    "\n",
    "•\tIn the future, with more time or resources, apart from exploring advanced models like DNNs, I would consider further selecting the right dataset and also in improving the data preprocessing pipeline. This could include experimenting with additional features, better handling of class imbalance, and possibly using clustering techniques to identify hidden patterns before model implementation. Further hyperparameter tuning and ensembling different models could also be explored to enhance the f1 score of stroke prediction.\n"
   ]
  }
 ],
 "metadata": {
  "colab": {
   "provenance": []
  },
  "kernelspec": {
   "display_name": "Python 3 (ipykernel)",
   "language": "python",
   "name": "python3"
  },
  "language_info": {
   "codemirror_mode": {
    "name": "ipython",
    "version": 3
   },
   "file_extension": ".py",
   "mimetype": "text/x-python",
   "name": "python",
   "nbconvert_exporter": "python",
   "pygments_lexer": "ipython3",
   "version": "3.11.5"
  }
 },
 "nbformat": 4,
 "nbformat_minor": 1
}
